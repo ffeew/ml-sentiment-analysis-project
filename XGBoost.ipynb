{
 "cells": [
  {
   "cell_type": "code",
   "execution_count": 1,
   "metadata": {},
   "outputs": [],
   "source": [
    "from xgboost import XGBClassifier\n",
    "import pandas as pd\n",
    "from sklearn.model_selection import train_test_split\n",
    "from sklearn.metrics import classification_report\n",
    "from sklearn.preprocessing import LabelEncoder\n",
    "from sklearn.feature_extraction.text import TfidfVectorizer"
   ]
  },
  {
   "cell_type": "code",
   "execution_count": 2,
   "metadata": {},
   "outputs": [],
   "source": [
    "def generateDf(path):\n",
    "    data = []\n",
    "    with open(path, 'r') as f:\n",
    "      for line in f.readlines():\n",
    "        data.append(line[:-1].split(' '))\n",
    "    return pd.DataFrame(data, columns=[\"word\", \"tag\"])"
   ]
  },
  {
   "cell_type": "code",
   "execution_count": 56,
   "metadata": {},
   "outputs": [],
   "source": [
    "def generateFileOut(model, X, output_path, vectorizer, encoder):\n",
    "    with open(output_path, 'w') as f:\n",
    "      for x in X:\n",
    "        if x == None or x == '':\n",
    "          f.write(\"\\n\")\n",
    "          continue\n",
    "        prediction = model.predict(vectorizer.transform([x]))\n",
    "        f.write(x + ' ' + str(encoder.inverse_transform(prediction)[0]) + \"\\n\")"
   ]
  },
  {
   "cell_type": "code",
   "execution_count": null,
   "metadata": {},
   "outputs": [],
   "source": [
    "def generateFileOutEntity(model, X, output_path, vectorizer, encoder):\n",
    "    with open(output_path, 'w') as f:\n",
    "      for x in X:\n",
    "        if x == None or x == '':\n",
    "          f.write(\"\\n\")\n",
    "          continue\n",
    "        prediction = model.predict(vectorizer.transform([x]))\n",
    "        f.write(x + ' ' + str(encoder.inverse_transform(prediction)[0]) + \"\\n\")"
   ]
  },
  {
   "attachments": {},
   "cell_type": "markdown",
   "metadata": {},
   "source": [
    "# Test single word prediction with XGBoost (English)"
   ]
  },
  {
   "cell_type": "code",
   "execution_count": 9,
   "metadata": {},
   "outputs": [
    {
     "data": {
      "text/html": [
       "<div>\n",
       "<style scoped>\n",
       "    .dataframe tbody tr th:only-of-type {\n",
       "        vertical-align: middle;\n",
       "    }\n",
       "\n",
       "    .dataframe tbody tr th {\n",
       "        vertical-align: top;\n",
       "    }\n",
       "\n",
       "    .dataframe thead th {\n",
       "        text-align: right;\n",
       "    }\n",
       "</style>\n",
       "<table border=\"1\" class=\"dataframe\">\n",
       "  <thead>\n",
       "    <tr style=\"text-align: right;\">\n",
       "      <th></th>\n",
       "      <th>word</th>\n",
       "      <th>tag</th>\n",
       "    </tr>\n",
       "  </thead>\n",
       "  <tbody>\n",
       "    <tr>\n",
       "      <th>0</th>\n",
       "      <td>RT</td>\n",
       "      <td>O</td>\n",
       "    </tr>\n",
       "    <tr>\n",
       "      <th>1</th>\n",
       "      <td>@shaunproulx</td>\n",
       "      <td>O</td>\n",
       "    </tr>\n",
       "    <tr>\n",
       "      <th>2</th>\n",
       "      <td>:</td>\n",
       "      <td>O</td>\n",
       "    </tr>\n",
       "    <tr>\n",
       "      <th>3</th>\n",
       "      <td>Encore</td>\n",
       "      <td>B-INTJ</td>\n",
       "    </tr>\n",
       "    <tr>\n",
       "      <th>4</th>\n",
       "      <td>!</td>\n",
       "      <td>O</td>\n",
       "    </tr>\n",
       "    <tr>\n",
       "      <th>...</th>\n",
       "      <td>...</td>\n",
       "      <td>...</td>\n",
       "    </tr>\n",
       "    <tr>\n",
       "      <th>11230</th>\n",
       "      <td>kick</td>\n",
       "      <td>B-VP</td>\n",
       "    </tr>\n",
       "    <tr>\n",
       "      <th>11231</th>\n",
       "      <td>off</td>\n",
       "      <td>B-PRT</td>\n",
       "    </tr>\n",
       "    <tr>\n",
       "      <th>11232</th>\n",
       "      <td>3p</td>\n",
       "      <td>B-NP</td>\n",
       "    </tr>\n",
       "    <tr>\n",
       "      <th>11233</th>\n",
       "      <td>...</td>\n",
       "      <td>O</td>\n",
       "    </tr>\n",
       "    <tr>\n",
       "      <th>11234</th>\n",
       "      <td>http://bit.ly/fci92L</td>\n",
       "      <td>O</td>\n",
       "    </tr>\n",
       "  </tbody>\n",
       "</table>\n",
       "<p>10685 rows × 2 columns</p>\n",
       "</div>"
      ],
      "text/plain": [
       "                       word     tag\n",
       "0                        RT       O\n",
       "1              @shaunproulx       O\n",
       "2                         :       O\n",
       "3                    Encore  B-INTJ\n",
       "4                         !       O\n",
       "...                     ...     ...\n",
       "11230                  kick    B-VP\n",
       "11231                   off   B-PRT\n",
       "11232                    3p    B-NP\n",
       "11233                   ...       O\n",
       "11234  http://bit.ly/fci92L       O\n",
       "\n",
       "[10685 rows x 2 columns]"
      ]
     },
     "execution_count": 9,
     "metadata": {},
     "output_type": "execute_result"
    }
   ],
   "source": [
    "df = generateDf(\"EN/train\")\n",
    "df = df.dropna()\n",
    "df"
   ]
  },
  {
   "cell_type": "code",
   "execution_count": 11,
   "metadata": {},
   "outputs": [
    {
     "data": {
      "text/plain": [
       "<10685x3026 sparse matrix of type '<class 'numpy.float64'>'\n",
       "\twith 8901 stored elements in Compressed Sparse Row format>"
      ]
     },
     "execution_count": 11,
     "metadata": {},
     "output_type": "execute_result"
    }
   ],
   "source": [
    "vect = TfidfVectorizer()\n",
    "vect.fit(df['word'])\n",
    "X_tfidf = vect.transform(df['word'])\n",
    "X_tfidf"
   ]
  },
  {
   "cell_type": "code",
   "execution_count": 12,
   "metadata": {},
   "outputs": [],
   "source": [
    "le = LabelEncoder()\n",
    "le.fit(df['tag'])\n",
    "y = le.transform(df['tag'])"
   ]
  },
  {
   "cell_type": "code",
   "execution_count": 13,
   "metadata": {},
   "outputs": [
    {
     "data": {
      "text/plain": [
       "array(['B-ADJP', 'B-ADVP', 'B-CONJP', 'B-INTJ', 'B-NP', 'B-PP', 'B-PRT',\n",
       "       'B-SBAR', 'B-VP', 'I-ADJP', 'I-ADVP', 'I-CONJP', 'I-INTJ', 'I-NP',\n",
       "       'I-PP', 'I-SBAR', 'I-VP', 'O'], dtype=object)"
      ]
     },
     "execution_count": 13,
     "metadata": {},
     "output_type": "execute_result"
    }
   ],
   "source": [
    "le.classes_"
   ]
  },
  {
   "cell_type": "code",
   "execution_count": 47,
   "metadata": {},
   "outputs": [
    {
     "data": {
      "text/html": [
       "<div>\n",
       "<style scoped>\n",
       "    .dataframe tbody tr th:only-of-type {\n",
       "        vertical-align: middle;\n",
       "    }\n",
       "\n",
       "    .dataframe tbody tr th {\n",
       "        vertical-align: top;\n",
       "    }\n",
       "\n",
       "    .dataframe thead th {\n",
       "        text-align: right;\n",
       "    }\n",
       "</style>\n",
       "<table border=\"1\" class=\"dataframe\">\n",
       "  <thead>\n",
       "    <tr style=\"text-align: right;\">\n",
       "      <th></th>\n",
       "      <th>word</th>\n",
       "      <th>tag</th>\n",
       "    </tr>\n",
       "  </thead>\n",
       "  <tbody>\n",
       "    <tr>\n",
       "      <th>0</th>\n",
       "      <td>NO</td>\n",
       "      <td>B-NP</td>\n",
       "    </tr>\n",
       "    <tr>\n",
       "      <th>1</th>\n",
       "      <td>Saints</td>\n",
       "      <td>I-NP</td>\n",
       "    </tr>\n",
       "    <tr>\n",
       "      <th>2</th>\n",
       "      <td>R</td>\n",
       "      <td>I-NP</td>\n",
       "    </tr>\n",
       "    <tr>\n",
       "      <th>3</th>\n",
       "      <td>.</td>\n",
       "      <td>O</td>\n",
       "    </tr>\n",
       "    <tr>\n",
       "      <th>4</th>\n",
       "      <td>Buch</td>\n",
       "      <td>B-NP</td>\n",
       "    </tr>\n",
       "    <tr>\n",
       "      <th>...</th>\n",
       "      <td>...</td>\n",
       "      <td>...</td>\n",
       "    </tr>\n",
       "    <tr>\n",
       "      <th>1515</th>\n",
       "      <td>much</td>\n",
       "      <td>I-ADJP</td>\n",
       "    </tr>\n",
       "    <tr>\n",
       "      <th>1516</th>\n",
       "      <td>the</td>\n",
       "      <td>I-ADJP</td>\n",
       "    </tr>\n",
       "    <tr>\n",
       "      <th>1517</th>\n",
       "      <td>same</td>\n",
       "      <td>I-ADJP</td>\n",
       "    </tr>\n",
       "    <tr>\n",
       "      <th>1518</th>\n",
       "      <td>.</td>\n",
       "      <td>O</td>\n",
       "    </tr>\n",
       "    <tr>\n",
       "      <th>1519</th>\n",
       "      <td></td>\n",
       "      <td>None</td>\n",
       "    </tr>\n",
       "  </tbody>\n",
       "</table>\n",
       "<p>1520 rows × 2 columns</p>\n",
       "</div>"
      ],
      "text/plain": [
       "        word     tag\n",
       "0         NO    B-NP\n",
       "1     Saints    I-NP\n",
       "2          R    I-NP\n",
       "3          .       O\n",
       "4       Buch    B-NP\n",
       "...      ...     ...\n",
       "1515    much  I-ADJP\n",
       "1516     the  I-ADJP\n",
       "1517    same  I-ADJP\n",
       "1518       .       O\n",
       "1519            None\n",
       "\n",
       "[1520 rows x 2 columns]"
      ]
     },
     "execution_count": 47,
     "metadata": {},
     "output_type": "execute_result"
    }
   ],
   "source": [
    "test_df = generateDf(\"EN/dev.out\")\n",
    "test_df"
   ]
  },
  {
   "cell_type": "code",
   "execution_count": 48,
   "metadata": {},
   "outputs": [],
   "source": [
    "classifier = XGBClassifier()\n",
    "classifier.fit(X_tfidf, y)\n",
    "\n",
    "generateFileOut(classifier, test_df['word'], \"EN/dev.xgboost.out\", vect, le)"
   ]
  },
  {
   "cell_type": "code",
   "execution_count": 23,
   "metadata": {},
   "outputs": [
    {
     "data": {
      "text/html": [
       "<div>\n",
       "<style scoped>\n",
       "    .dataframe tbody tr th:only-of-type {\n",
       "        vertical-align: middle;\n",
       "    }\n",
       "\n",
       "    .dataframe tbody tr th {\n",
       "        vertical-align: top;\n",
       "    }\n",
       "\n",
       "    .dataframe thead th {\n",
       "        text-align: right;\n",
       "    }\n",
       "</style>\n",
       "<table border=\"1\" class=\"dataframe\">\n",
       "  <thead>\n",
       "    <tr style=\"text-align: right;\">\n",
       "      <th></th>\n",
       "      <th>text</th>\n",
       "      <th>tag</th>\n",
       "    </tr>\n",
       "  </thead>\n",
       "  <tbody>\n",
       "    <tr>\n",
       "      <th>0</th>\n",
       "      <td>RT @shaunproulx : Encore ! @bifnaked for the w...</td>\n",
       "      <td>O O O B-INTJ O O B-PP B-NP I-NP O B-NP O B-NP ...</td>\n",
       "    </tr>\n",
       "    <tr>\n",
       "      <th>1</th>\n",
       "      <td>Pick up here . Deliver on Dayton NJ tomorrow (...</td>\n",
       "      <td>B-VP B-PRT B-NP O B-VP B-PP B-NP I-NP B-NP B-P...</td>\n",
       "    </tr>\n",
       "    <tr>\n",
       "      <th>2</th>\n",
       "      <td>Cant wait for the ravens game tomorrow .... go...</td>\n",
       "      <td>B-VP I-VP B-PP B-NP I-NP I-NP B-NP O B-VP B-NP...</td>\n",
       "    </tr>\n",
       "    <tr>\n",
       "      <th>3</th>\n",
       "      <td>@CELLY32 I went to kolb for a week lol that sh...</td>\n",
       "      <td>O B-NP B-VP B-PP B-NP B-PP B-NP I-NP B-INTJ B-...</td>\n",
       "    </tr>\n",
       "    <tr>\n",
       "      <th>4</th>\n",
       "      <td>the day you go shirtless in school is the day ...</td>\n",
       "      <td>B-NP I-NP B-NP B-VP B-ADJP B-PP B-NP B-VP B-NP...</td>\n",
       "    </tr>\n",
       "    <tr>\n",
       "      <th>...</th>\n",
       "      <td>...</td>\n",
       "      <td>...</td>\n",
       "    </tr>\n",
       "    <tr>\n",
       "      <th>625</th>\n",
       "      <td>@jaredleto ... ive been to 13 30stm concerts n...</td>\n",
       "      <td>O O B-VP I-VP B-PP B-NP I-NP I-NP B-ADVP O B-N...</td>\n",
       "    </tr>\n",
       "    <tr>\n",
       "      <th>626</th>\n",
       "      <td>http://bit.ly/aTTQYq When Pepsi to ring usuall...</td>\n",
       "      <td>O B-ADVP B-NP B-VP I-VP I-VP I-VP B-PP O B-VP ...</td>\n",
       "    </tr>\n",
       "    <tr>\n",
       "      <th>627</th>\n",
       "      <td>@Jezkwon @kpop_stuff Tweet me a member for pic...</td>\n",
       "      <td>O O B-VP B-NP B-NP I-NP B-PP B-NP O B-VP I-VP ...</td>\n",
       "    </tr>\n",
       "    <tr>\n",
       "      <th>628</th>\n",
       "      <td>@BexsterBexster @shinobi32768 I 've been havin...</td>\n",
       "      <td>O O B-NP B-VP I-VP I-VP B-NP B-NP I-NP O B-VP ...</td>\n",
       "    </tr>\n",
       "    <tr>\n",
       "      <th>629</th>\n",
       "      <td></td>\n",
       "      <td></td>\n",
       "    </tr>\n",
       "  </tbody>\n",
       "</table>\n",
       "<p>630 rows × 2 columns</p>\n",
       "</div>"
      ],
      "text/plain": [
       "                                                  text   \n",
       "0    RT @shaunproulx : Encore ! @bifnaked for the w...  \\\n",
       "1    Pick up here . Deliver on Dayton NJ tomorrow (...   \n",
       "2    Cant wait for the ravens game tomorrow .... go...   \n",
       "3    @CELLY32 I went to kolb for a week lol that sh...   \n",
       "4    the day you go shirtless in school is the day ...   \n",
       "..                                                 ...   \n",
       "625  @jaredleto ... ive been to 13 30stm concerts n...   \n",
       "626  http://bit.ly/aTTQYq When Pepsi to ring usuall...   \n",
       "627  @Jezkwon @kpop_stuff Tweet me a member for pic...   \n",
       "628  @BexsterBexster @shinobi32768 I 've been havin...   \n",
       "629                                                      \n",
       "\n",
       "                                                   tag  \n",
       "0    O O O B-INTJ O O B-PP B-NP I-NP O B-NP O B-NP ...  \n",
       "1    B-VP B-PRT B-NP O B-VP B-PP B-NP I-NP B-NP B-P...  \n",
       "2    B-VP I-VP B-PP B-NP I-NP I-NP B-NP O B-VP B-NP...  \n",
       "3    O B-NP B-VP B-PP B-NP B-PP B-NP I-NP B-INTJ B-...  \n",
       "4    B-NP I-NP B-NP B-VP B-ADJP B-PP B-NP B-VP B-NP...  \n",
       "..                                                 ...  \n",
       "625  O O B-VP I-VP B-PP B-NP I-NP I-NP B-ADVP O B-N...  \n",
       "626  O B-ADVP B-NP B-VP I-VP I-VP I-VP B-PP O B-VP ...  \n",
       "627  O O B-VP B-NP B-NP I-NP B-PP B-NP O B-VP I-VP ...  \n",
       "628  O O B-NP B-VP I-VP I-VP B-NP B-NP I-NP O B-VP ...  \n",
       "629                                                     \n",
       "\n",
       "[630 rows x 2 columns]"
      ]
     },
     "execution_count": 23,
     "metadata": {},
     "output_type": "execute_result"
    }
   ],
   "source": [
    "def generateDfofTweets(path):\n",
    "    with open(path, 'r') as f:\n",
    "      data_in= f.read()\n",
    "    labeled_tweets = data_in.split('\\n\\n')\n",
    "\n",
    "    split_tweets = []\n",
    "    for labeled_tweet in labeled_tweets:\n",
    "      word_tag = labeled_tweet.split('\\n')\n",
    "      tweet_text = []\n",
    "      tweet_tag = []\n",
    "      for word_tag_pair in word_tag:\n",
    "        word_tag_pair = word_tag_pair.split(' ')\n",
    "        tweet_text.append(word_tag_pair[0])\n",
    "        tweet_tag.append(word_tag_pair[-1])\n",
    "      split_tweets.append([\" \".join(tweet_text), \" \".join(tweet_tag)])\n",
    "\n",
    "    return pd.DataFrame(split_tweets, columns=[\"text\", \"tag\"])\n",
    "df = generateDfofTweets(\"EN/combined.txt\")\n",
    "df"
   ]
  },
  {
   "cell_type": "code",
   "execution_count": 65,
   "metadata": {},
   "outputs": [],
   "source": [
    "def generateDfofEntities(path):\n",
    "    with open(path, 'r') as f:\n",
    "      data_in= f.read()\n",
    "    labeled_lines = data_in.split('\\n')\n",
    "\n",
    "    output = []\n",
    "    entity = []\n",
    "    entity_tag = []\n",
    "    for line in labeled_lines:\n",
    "      if line == \"\":\n",
    "         output.append([])\n",
    "         continue\n",
    "      word, tag = line.split(' ')\n",
    "      if tag==\"O\":\n",
    "        # check if previous entity is complete\n",
    "        if len(entity)>0:\n",
    "          output.append([\" \".join(entity), \" \".join(entity_tag)])\n",
    "          # reset entity\n",
    "          entity=[]\n",
    "          entity_tag=[]\n",
    "        output.append([word, tag])\n",
    "        continue\n",
    "\n",
    "      current_pos, current_tag = tag.split('-')\n",
    "\n",
    "      if current_pos==\"B\":\n",
    "        # check if previous entity is complete\n",
    "        if len(entity)>0:\n",
    "          output.append([\" \".join(entity), \" \".join(entity_tag)])\n",
    "\n",
    "        # reset entity\n",
    "        entity=[word]\n",
    "        entity_tag=[tag]\n",
    "        continue\n",
    "\n",
    "      elif current_pos==\"I\":\n",
    "        # add to entity\n",
    "        entity.append(word)\n",
    "        entity_tag.append(tag)\n",
    "        continue\n",
    "\n",
    "    return pd.DataFrame(output, columns=[\"entity\", \"tag\"])\n"
   ]
  },
  {
   "attachments": {},
   "cell_type": "markdown",
   "metadata": {},
   "source": [
    "# Test entity prediction with XGBoost (English)"
   ]
  },
  {
   "cell_type": "code",
   "execution_count": 79,
   "metadata": {},
   "outputs": [
    {
     "data": {
      "text/html": [
       "<div>\n",
       "<style scoped>\n",
       "    .dataframe tbody tr th:only-of-type {\n",
       "        vertical-align: middle;\n",
       "    }\n",
       "\n",
       "    .dataframe tbody tr th {\n",
       "        vertical-align: top;\n",
       "    }\n",
       "\n",
       "    .dataframe thead th {\n",
       "        text-align: right;\n",
       "    }\n",
       "</style>\n",
       "<table border=\"1\" class=\"dataframe\">\n",
       "  <thead>\n",
       "    <tr style=\"text-align: right;\">\n",
       "      <th></th>\n",
       "      <th>entity</th>\n",
       "      <th>tag</th>\n",
       "    </tr>\n",
       "  </thead>\n",
       "  <tbody>\n",
       "    <tr>\n",
       "      <th>0</th>\n",
       "      <td>RT</td>\n",
       "      <td>O</td>\n",
       "    </tr>\n",
       "    <tr>\n",
       "      <th>1</th>\n",
       "      <td>@shaunproulx</td>\n",
       "      <td>O</td>\n",
       "    </tr>\n",
       "    <tr>\n",
       "      <th>2</th>\n",
       "      <td>:</td>\n",
       "      <td>O</td>\n",
       "    </tr>\n",
       "    <tr>\n",
       "      <th>3</th>\n",
       "      <td>Encore</td>\n",
       "      <td>B-INTJ</td>\n",
       "    </tr>\n",
       "    <tr>\n",
       "      <th>4</th>\n",
       "      <td>!</td>\n",
       "      <td>O</td>\n",
       "    </tr>\n",
       "    <tr>\n",
       "      <th>...</th>\n",
       "      <td>...</td>\n",
       "      <td>...</td>\n",
       "    </tr>\n",
       "    <tr>\n",
       "      <th>8510</th>\n",
       "      <td>kick</td>\n",
       "      <td>B-VP</td>\n",
       "    </tr>\n",
       "    <tr>\n",
       "      <th>8511</th>\n",
       "      <td>off</td>\n",
       "      <td>B-PRT</td>\n",
       "    </tr>\n",
       "    <tr>\n",
       "      <th>8512</th>\n",
       "      <td>3p</td>\n",
       "      <td>B-NP</td>\n",
       "    </tr>\n",
       "    <tr>\n",
       "      <th>8513</th>\n",
       "      <td>...</td>\n",
       "      <td>O</td>\n",
       "    </tr>\n",
       "    <tr>\n",
       "      <th>8514</th>\n",
       "      <td>http://bit.ly/fci92L</td>\n",
       "      <td>O</td>\n",
       "    </tr>\n",
       "  </tbody>\n",
       "</table>\n",
       "<p>7965 rows × 2 columns</p>\n",
       "</div>"
      ],
      "text/plain": [
       "                    entity     tag\n",
       "0                       RT       O\n",
       "1             @shaunproulx       O\n",
       "2                        :       O\n",
       "3                   Encore  B-INTJ\n",
       "4                        !       O\n",
       "...                    ...     ...\n",
       "8510                  kick    B-VP\n",
       "8511                   off   B-PRT\n",
       "8512                    3p    B-NP\n",
       "8513                   ...       O\n",
       "8514  http://bit.ly/fci92L       O\n",
       "\n",
       "[7965 rows x 2 columns]"
      ]
     },
     "execution_count": 79,
     "metadata": {},
     "output_type": "execute_result"
    }
   ],
   "source": [
    "df = generateDfofEntities(\"EN/train\")\n",
    "df = df.dropna()\n",
    "df"
   ]
  },
  {
   "cell_type": "code",
   "execution_count": 80,
   "metadata": {},
   "outputs": [
    {
     "data": {
      "text/plain": [
       "<7965x3026 sparse matrix of type '<class 'numpy.float64'>'\n",
       "\twith 8884 stored elements in Compressed Sparse Row format>"
      ]
     },
     "execution_count": 80,
     "metadata": {},
     "output_type": "execute_result"
    }
   ],
   "source": [
    "vect = TfidfVectorizer()\n",
    "vect.fit(df['entity'])\n",
    "X_tfidf = vect.transform(df['entity'])\n",
    "X_tfidf"
   ]
  },
  {
   "cell_type": "code",
   "execution_count": 81,
   "metadata": {},
   "outputs": [
    {
     "data": {
      "text/plain": [
       "array([45, 45, 45, ..., 14, 45, 45])"
      ]
     },
     "execution_count": 81,
     "metadata": {},
     "output_type": "execute_result"
    }
   ],
   "source": [
    "le = LabelEncoder()\n",
    "le.fit(df['tag'])\n",
    "y = le.transform(df['tag'])\n",
    "y"
   ]
  },
  {
   "cell_type": "code",
   "execution_count": 82,
   "metadata": {},
   "outputs": [
    {
     "data": {
      "text/html": [
       "<div>\n",
       "<style scoped>\n",
       "    .dataframe tbody tr th:only-of-type {\n",
       "        vertical-align: middle;\n",
       "    }\n",
       "\n",
       "    .dataframe tbody tr th {\n",
       "        vertical-align: top;\n",
       "    }\n",
       "\n",
       "    .dataframe thead th {\n",
       "        text-align: right;\n",
       "    }\n",
       "</style>\n",
       "<table border=\"1\" class=\"dataframe\">\n",
       "  <thead>\n",
       "    <tr style=\"text-align: right;\">\n",
       "      <th></th>\n",
       "      <th>entity</th>\n",
       "      <th>tag</th>\n",
       "    </tr>\n",
       "  </thead>\n",
       "  <tbody>\n",
       "    <tr>\n",
       "      <th>0</th>\n",
       "      <td>NO Saints R</td>\n",
       "      <td>B-NP I-NP I-NP</td>\n",
       "    </tr>\n",
       "    <tr>\n",
       "      <th>1</th>\n",
       "      <td>.</td>\n",
       "      <td>O</td>\n",
       "    </tr>\n",
       "    <tr>\n",
       "      <th>2</th>\n",
       "      <td>Buch</td>\n",
       "      <td>B-NP</td>\n",
       "    </tr>\n",
       "    <tr>\n",
       "      <th>3</th>\n",
       "      <td>might come</td>\n",
       "      <td>B-VP I-VP</td>\n",
       "    </tr>\n",
       "    <tr>\n",
       "      <th>4</th>\n",
       "      <td>back</td>\n",
       "      <td>B-ADVP</td>\n",
       "    </tr>\n",
       "    <tr>\n",
       "      <th>...</th>\n",
       "      <td>...</td>\n",
       "      <td>...</td>\n",
       "    </tr>\n",
       "    <tr>\n",
       "      <th>1175</th>\n",
       "      <td>'s starting to taste</td>\n",
       "      <td>B-VP I-VP I-VP I-VP</td>\n",
       "    </tr>\n",
       "    <tr>\n",
       "      <th>1176</th>\n",
       "      <td>pretty much the same</td>\n",
       "      <td>B-ADJP I-ADJP I-ADJP I-ADJP</td>\n",
       "    </tr>\n",
       "    <tr>\n",
       "      <th>1177</th>\n",
       "      <td>.</td>\n",
       "      <td>O</td>\n",
       "    </tr>\n",
       "    <tr>\n",
       "      <th>1178</th>\n",
       "      <td>None</td>\n",
       "      <td>None</td>\n",
       "    </tr>\n",
       "    <tr>\n",
       "      <th>1179</th>\n",
       "      <td>None</td>\n",
       "      <td>None</td>\n",
       "    </tr>\n",
       "  </tbody>\n",
       "</table>\n",
       "<p>1180 rows × 2 columns</p>\n",
       "</div>"
      ],
      "text/plain": [
       "                    entity                          tag\n",
       "0              NO Saints R               B-NP I-NP I-NP\n",
       "1                        .                            O\n",
       "2                     Buch                         B-NP\n",
       "3               might come                    B-VP I-VP\n",
       "4                     back                       B-ADVP\n",
       "...                    ...                          ...\n",
       "1175  's starting to taste          B-VP I-VP I-VP I-VP\n",
       "1176  pretty much the same  B-ADJP I-ADJP I-ADJP I-ADJP\n",
       "1177                     .                            O\n",
       "1178                  None                         None\n",
       "1179                  None                         None\n",
       "\n",
       "[1180 rows x 2 columns]"
      ]
     },
     "execution_count": 82,
     "metadata": {},
     "output_type": "execute_result"
    }
   ],
   "source": [
    "test_df = generateDfofEntities(\"EN/dev.out\")\n",
    "test_df"
   ]
  },
  {
   "cell_type": "code",
   "execution_count": 87,
   "metadata": {},
   "outputs": [],
   "source": [
    "def generateFileOutEntity(model, X, path, vect, le):\n",
    "    with open(path, 'w') as f:\n",
    "      for x in X:\n",
    "        if x == None or x == '':\n",
    "          f.write(\"\\n\")\n",
    "          continue\n",
    "        prediction = model.predict(vect.transform([x]))\n",
    "        prediction = le.inverse_transform(prediction)[0]\n",
    "        words = x.split(' ')\n",
    "        tags = prediction.split(' ')\n",
    "        for word, tag in zip(words, tags):\n",
    "          f.write(word + ' ' + tag + \"\\n\")"
   ]
  },
  {
   "cell_type": "code",
   "execution_count": 88,
   "metadata": {},
   "outputs": [],
   "source": [
    "classifier = XGBClassifier()\n",
    "classifier.fit(X_tfidf, y)\n",
    "\n",
    "generateFileOutEntity(classifier, test_df['entity'], \"EN/dev.xgboost.entity.out\", vect, le)"
   ]
  },
  {
   "attachments": {},
   "cell_type": "markdown",
   "metadata": {},
   "source": [
    "# Test entity prediction with XGBoost (French)"
   ]
  },
  {
   "cell_type": "code",
   "execution_count": 5,
   "metadata": {},
   "outputs": [
    {
     "data": {
      "text/html": [
       "<div>\n",
       "<style scoped>\n",
       "    .dataframe tbody tr th:only-of-type {\n",
       "        vertical-align: middle;\n",
       "    }\n",
       "\n",
       "    .dataframe tbody tr th {\n",
       "        vertical-align: top;\n",
       "    }\n",
       "\n",
       "    .dataframe thead th {\n",
       "        text-align: right;\n",
       "    }\n",
       "</style>\n",
       "<table border=\"1\" class=\"dataframe\">\n",
       "  <thead>\n",
       "    <tr style=\"text-align: right;\">\n",
       "      <th></th>\n",
       "      <th>entity</th>\n",
       "      <th>tag</th>\n",
       "    </tr>\n",
       "  </thead>\n",
       "  <tbody>\n",
       "    <tr>\n",
       "      <th>0</th>\n",
       "      <td>Nous</td>\n",
       "      <td>O</td>\n",
       "    </tr>\n",
       "    <tr>\n",
       "      <th>1</th>\n",
       "      <td>avons</td>\n",
       "      <td>O</td>\n",
       "    </tr>\n",
       "    <tr>\n",
       "      <th>2</th>\n",
       "      <td>tout</td>\n",
       "      <td>O</td>\n",
       "    </tr>\n",
       "    <tr>\n",
       "      <th>3</th>\n",
       "      <td>aimé</td>\n",
       "      <td>O</td>\n",
       "    </tr>\n",
       "    <tr>\n",
       "      <th>4</th>\n",
       "      <td>.</td>\n",
       "      <td>O</td>\n",
       "    </tr>\n",
       "    <tr>\n",
       "      <th>...</th>\n",
       "      <td>...</td>\n",
       "      <td>...</td>\n",
       "    </tr>\n",
       "    <tr>\n",
       "      <th>29482</th>\n",
       "      <td>avec</td>\n",
       "      <td>O</td>\n",
       "    </tr>\n",
       "    <tr>\n",
       "      <th>29483</th>\n",
       "      <td>des</td>\n",
       "      <td>O</td>\n",
       "    </tr>\n",
       "    <tr>\n",
       "      <th>29484</th>\n",
       "      <td>bons</td>\n",
       "      <td>O</td>\n",
       "    </tr>\n",
       "    <tr>\n",
       "      <th>29485</th>\n",
       "      <td>conseils</td>\n",
       "      <td>O</td>\n",
       "    </tr>\n",
       "    <tr>\n",
       "      <th>29486</th>\n",
       "      <td>.</td>\n",
       "      <td>O</td>\n",
       "    </tr>\n",
       "  </tbody>\n",
       "</table>\n",
       "<p>29487 rows × 2 columns</p>\n",
       "</div>"
      ],
      "text/plain": [
       "         entity tag\n",
       "0          Nous   O\n",
       "1         avons   O\n",
       "2          tout   O\n",
       "3          aimé   O\n",
       "4             .   O\n",
       "...         ...  ..\n",
       "29482      avec   O\n",
       "29483       des   O\n",
       "29484      bons   O\n",
       "29485  conseils   O\n",
       "29486         .   O\n",
       "\n",
       "[29487 rows x 2 columns]"
      ]
     },
     "execution_count": 5,
     "metadata": {},
     "output_type": "execute_result"
    }
   ],
   "source": [
    "df_fr = generateDfofEntities(\"FR/combined.txt\")\n",
    "df_fr"
   ]
  },
  {
   "cell_type": "code",
   "execution_count": 7,
   "metadata": {},
   "outputs": [
    {
     "data": {
      "text/plain": [
       "array([22, 22, 22, ..., 22, 22, 22])"
      ]
     },
     "execution_count": 7,
     "metadata": {},
     "output_type": "execute_result"
    }
   ],
   "source": [
    "le = LabelEncoder()\n",
    "le.fit(df_fr['tag'])\n",
    "y = le.transform(df_fr['tag'])\n",
    "y"
   ]
  },
  {
   "cell_type": "code",
   "execution_count": 8,
   "metadata": {},
   "outputs": [
    {
     "data": {
      "text/plain": [
       "<29487x3952 sparse matrix of type '<class 'numpy.float64'>'\n",
       "\twith 25046 stored elements in Compressed Sparse Row format>"
      ]
     },
     "execution_count": 8,
     "metadata": {},
     "output_type": "execute_result"
    }
   ],
   "source": [
    "vect = TfidfVectorizer()\n",
    "vect.fit(df_fr['entity'])\n",
    "X_tfidf = vect.transform(df_fr['entity'])\n",
    "X_tfidf"
   ]
  },
  {
   "cell_type": "code",
   "execution_count": 9,
   "metadata": {},
   "outputs": [],
   "source": [
    "X_train, X_test, y_train, y_test = train_test_split(X_tfidf, y, test_size=0.2)"
   ]
  },
  {
   "cell_type": "code",
   "execution_count": 11,
   "metadata": {},
   "outputs": [
    {
     "name": "stdout",
     "output_type": "stream",
     "text": [
      "                                                        precision    recall  f1-score   support\n",
      "\n",
      "                                            B-negative       0.35      0.21      0.26       115\n",
      "                                 B-negative I-negative       0.00      0.00      0.00        11\n",
      "                      B-negative I-negative I-negative       0.54      0.54      0.54        13\n",
      "           B-negative I-negative I-negative I-negative       1.00      0.25      0.40         4\n",
      "B-negative I-negative I-negative I-negative I-negative       0.50      0.50      0.50         2\n",
      "                                             B-neutral       0.00      0.00      0.00        24\n",
      "                                   B-neutral I-neutral       0.00      0.00      0.00         2\n",
      "                         B-neutral I-neutral I-neutral       0.00      0.00      0.00         3\n",
      "               B-neutral I-neutral I-neutral I-neutral       0.00      0.00      0.00         1\n",
      "                                            B-positive       0.55      0.32      0.41       162\n",
      "                                 B-positive I-positive       1.00      0.08      0.14        13\n",
      "                      B-positive I-positive I-positive       0.17      0.17      0.17         6\n",
      "           B-positive I-positive I-positive I-positive       0.00      0.00      0.00         0\n",
      "B-positive I-positive I-positive I-positive I-positive       0.00      0.00      0.00         2\n",
      "                                                     O       0.97      0.99      0.98      5540\n",
      "\n",
      "                                              accuracy                           0.95      5898\n",
      "                                             macro avg       0.34      0.20      0.23      5898\n",
      "                                          weighted avg       0.93      0.95      0.94      5898\n",
      "\n"
     ]
    },
    {
     "name": "stderr",
     "output_type": "stream",
     "text": [
      "/home/codespace/.local/lib/python3.10/site-packages/sklearn/metrics/_classification.py:1344: UndefinedMetricWarning: Precision and F-score are ill-defined and being set to 0.0 in labels with no predicted samples. Use `zero_division` parameter to control this behavior.\n",
      "  _warn_prf(average, modifier, msg_start, len(result))\n",
      "/home/codespace/.local/lib/python3.10/site-packages/sklearn/metrics/_classification.py:1344: UndefinedMetricWarning: Recall and F-score are ill-defined and being set to 0.0 in labels with no true samples. Use `zero_division` parameter to control this behavior.\n",
      "  _warn_prf(average, modifier, msg_start, len(result))\n",
      "/home/codespace/.local/lib/python3.10/site-packages/sklearn/metrics/_classification.py:1344: UndefinedMetricWarning: Precision and F-score are ill-defined and being set to 0.0 in labels with no predicted samples. Use `zero_division` parameter to control this behavior.\n",
      "  _warn_prf(average, modifier, msg_start, len(result))\n",
      "/home/codespace/.local/lib/python3.10/site-packages/sklearn/metrics/_classification.py:1344: UndefinedMetricWarning: Recall and F-score are ill-defined and being set to 0.0 in labels with no true samples. Use `zero_division` parameter to control this behavior.\n",
      "  _warn_prf(average, modifier, msg_start, len(result))\n",
      "/home/codespace/.local/lib/python3.10/site-packages/sklearn/metrics/_classification.py:1344: UndefinedMetricWarning: Precision and F-score are ill-defined and being set to 0.0 in labels with no predicted samples. Use `zero_division` parameter to control this behavior.\n",
      "  _warn_prf(average, modifier, msg_start, len(result))\n",
      "/home/codespace/.local/lib/python3.10/site-packages/sklearn/metrics/_classification.py:1344: UndefinedMetricWarning: Recall and F-score are ill-defined and being set to 0.0 in labels with no true samples. Use `zero_division` parameter to control this behavior.\n",
      "  _warn_prf(average, modifier, msg_start, len(result))\n"
     ]
    }
   ],
   "source": [
    "classifier = XGBClassifier()\n",
    "# unable to train the classifier using the train_test split since the number of classes are different (some classes are not present in the training set, leading to an error)\n",
    "classifier.fit(X_train, y_train)\n",
    "# predicting using part of the training data may return an overly optimistic result, but it can still give a gist of the performance of the classifier\n",
    "prediction = classifier.predict(X_test)\n",
    "print(classification_report(le.inverse_transform(y_test), le.inverse_transform(prediction)))"
   ]
  },
  {
   "attachments": {},
   "cell_type": "markdown",
   "metadata": {},
   "source": [
    "# Test single word prediction with XGBoost (French)"
   ]
  },
  {
   "cell_type": "code",
   "execution_count": 49,
   "metadata": {},
   "outputs": [
    {
     "data": {
      "text/html": [
       "<div>\n",
       "<style scoped>\n",
       "    .dataframe tbody tr th:only-of-type {\n",
       "        vertical-align: middle;\n",
       "    }\n",
       "\n",
       "    .dataframe tbody tr th {\n",
       "        vertical-align: top;\n",
       "    }\n",
       "\n",
       "    .dataframe thead th {\n",
       "        text-align: right;\n",
       "    }\n",
       "</style>\n",
       "<table border=\"1\" class=\"dataframe\">\n",
       "  <thead>\n",
       "    <tr style=\"text-align: right;\">\n",
       "      <th></th>\n",
       "      <th>word</th>\n",
       "      <th>tag</th>\n",
       "    </tr>\n",
       "  </thead>\n",
       "  <tbody>\n",
       "    <tr>\n",
       "      <th>0</th>\n",
       "      <td>Nous</td>\n",
       "      <td>O</td>\n",
       "    </tr>\n",
       "    <tr>\n",
       "      <th>1</th>\n",
       "      <td>avons</td>\n",
       "      <td>O</td>\n",
       "    </tr>\n",
       "    <tr>\n",
       "      <th>2</th>\n",
       "      <td>tout</td>\n",
       "      <td>O</td>\n",
       "    </tr>\n",
       "    <tr>\n",
       "      <th>3</th>\n",
       "      <td>aimé</td>\n",
       "      <td>O</td>\n",
       "    </tr>\n",
       "    <tr>\n",
       "      <th>4</th>\n",
       "      <td>.</td>\n",
       "      <td>O</td>\n",
       "    </tr>\n",
       "    <tr>\n",
       "      <th>...</th>\n",
       "      <td>...</td>\n",
       "      <td>...</td>\n",
       "    </tr>\n",
       "    <tr>\n",
       "      <th>28193</th>\n",
       "      <td>à</td>\n",
       "      <td>O</td>\n",
       "    </tr>\n",
       "    <tr>\n",
       "      <th>28194</th>\n",
       "      <td>l</td>\n",
       "      <td>O</td>\n",
       "    </tr>\n",
       "    <tr>\n",
       "      <th>28195</th>\n",
       "      <td>écoute</td>\n",
       "      <td>O</td>\n",
       "    </tr>\n",
       "    <tr>\n",
       "      <th>28196</th>\n",
       "      <td>!</td>\n",
       "      <td>O</td>\n",
       "    </tr>\n",
       "    <tr>\n",
       "      <th>28197</th>\n",
       "      <td>!</td>\n",
       "      <td>O</td>\n",
       "    </tr>\n",
       "  </tbody>\n",
       "</table>\n",
       "<p>26567 rows × 2 columns</p>\n",
       "</div>"
      ],
      "text/plain": [
       "         word tag\n",
       "0        Nous   O\n",
       "1       avons   O\n",
       "2        tout   O\n",
       "3        aimé   O\n",
       "4           .   O\n",
       "...       ...  ..\n",
       "28193       à   O\n",
       "28194       l   O\n",
       "28195  écoute   O\n",
       "28196       !   O\n",
       "28197       !   O\n",
       "\n",
       "[26567 rows x 2 columns]"
      ]
     },
     "execution_count": 49,
     "metadata": {},
     "output_type": "execute_result"
    }
   ],
   "source": [
    "df_fr = generateDf(\"FR/train\")\n",
    "df_fr = df_fr.dropna()\n",
    "df_fr"
   ]
  },
  {
   "cell_type": "code",
   "execution_count": 54,
   "metadata": {},
   "outputs": [
    {
     "data": {
      "text/plain": [
       "array([6, 6, 6, ..., 6, 6, 6])"
      ]
     },
     "execution_count": 54,
     "metadata": {},
     "output_type": "execute_result"
    }
   ],
   "source": [
    "le = LabelEncoder()\n",
    "le.fit(df_fr['tag'])\n",
    "y = le.transform(df_fr['tag'])\n",
    "y"
   ]
  },
  {
   "cell_type": "code",
   "execution_count": 51,
   "metadata": {},
   "outputs": [
    {
     "data": {
      "text/plain": [
       "<26567x3679 sparse matrix of type '<class 'numpy.float64'>'\n",
       "\twith 22167 stored elements in Compressed Sparse Row format>"
      ]
     },
     "execution_count": 51,
     "metadata": {},
     "output_type": "execute_result"
    }
   ],
   "source": [
    "vect = TfidfVectorizer()\n",
    "vect.fit(df_fr['word'])\n",
    "X_tfidf = vect.transform(df_fr['word'])\n",
    "X_tfidf"
   ]
  },
  {
   "cell_type": "code",
   "execution_count": 53,
   "metadata": {},
   "outputs": [
    {
     "data": {
      "text/html": [
       "<div>\n",
       "<style scoped>\n",
       "    .dataframe tbody tr th:only-of-type {\n",
       "        vertical-align: middle;\n",
       "    }\n",
       "\n",
       "    .dataframe tbody tr th {\n",
       "        vertical-align: top;\n",
       "    }\n",
       "\n",
       "    .dataframe thead th {\n",
       "        text-align: right;\n",
       "    }\n",
       "</style>\n",
       "<table border=\"1\" class=\"dataframe\">\n",
       "  <thead>\n",
       "    <tr style=\"text-align: right;\">\n",
       "      <th></th>\n",
       "      <th>word</th>\n",
       "      <th>tag</th>\n",
       "    </tr>\n",
       "  </thead>\n",
       "  <tbody>\n",
       "    <tr>\n",
       "      <th>0</th>\n",
       "      <td>Petite</td>\n",
       "      <td>O</td>\n",
       "    </tr>\n",
       "    <tr>\n",
       "      <th>1</th>\n",
       "      <td>salle</td>\n",
       "      <td>O</td>\n",
       "    </tr>\n",
       "    <tr>\n",
       "      <th>2</th>\n",
       "      <td>ambiance</td>\n",
       "      <td>B-neutral</td>\n",
       "    </tr>\n",
       "    <tr>\n",
       "      <th>3</th>\n",
       "      <td>plage</td>\n",
       "      <td>O</td>\n",
       "    </tr>\n",
       "    <tr>\n",
       "      <th>4</th>\n",
       "      <td>Oléronaise</td>\n",
       "      <td>O</td>\n",
       "    </tr>\n",
       "    <tr>\n",
       "      <th>...</th>\n",
       "      <td>...</td>\n",
       "      <td>...</td>\n",
       "    </tr>\n",
       "    <tr>\n",
       "      <th>3695</th>\n",
       "      <td>des</td>\n",
       "      <td>O</td>\n",
       "    </tr>\n",
       "    <tr>\n",
       "      <th>3696</th>\n",
       "      <td>bons</td>\n",
       "      <td>O</td>\n",
       "    </tr>\n",
       "    <tr>\n",
       "      <th>3697</th>\n",
       "      <td>conseils</td>\n",
       "      <td>O</td>\n",
       "    </tr>\n",
       "    <tr>\n",
       "      <th>3698</th>\n",
       "      <td>.</td>\n",
       "      <td>O</td>\n",
       "    </tr>\n",
       "    <tr>\n",
       "      <th>3699</th>\n",
       "      <td></td>\n",
       "      <td>None</td>\n",
       "    </tr>\n",
       "  </tbody>\n",
       "</table>\n",
       "<p>3700 rows × 2 columns</p>\n",
       "</div>"
      ],
      "text/plain": [
       "            word        tag\n",
       "0         Petite          O\n",
       "1          salle          O\n",
       "2       ambiance  B-neutral\n",
       "3          plage          O\n",
       "4     Oléronaise          O\n",
       "...          ...        ...\n",
       "3695         des          O\n",
       "3696        bons          O\n",
       "3697    conseils          O\n",
       "3698           .          O\n",
       "3699                   None\n",
       "\n",
       "[3700 rows x 2 columns]"
      ]
     },
     "execution_count": 53,
     "metadata": {},
     "output_type": "execute_result"
    }
   ],
   "source": [
    "test_df = generateDf(\"FR/dev.out\")\n",
    "test_df"
   ]
  },
  {
   "cell_type": "code",
   "execution_count": 57,
   "metadata": {},
   "outputs": [],
   "source": [
    "classifier = XGBClassifier()\n",
    "classifier.fit(X_tfidf, y)\n",
    "\n",
    "generateFileOut(classifier, test_df['word'], \"FR/dev.xgboost.out\", vect, le)"
   ]
  },
  {
   "cell_type": "code",
   "execution_count": null,
   "metadata": {},
   "outputs": [],
   "source": []
  }
 ],
 "metadata": {
  "kernelspec": {
   "display_name": "Python 3",
   "language": "python",
   "name": "python3"
  },
  "language_info": {
   "codemirror_mode": {
    "name": "ipython",
    "version": 3
   },
   "file_extension": ".py",
   "mimetype": "text/x-python",
   "name": "python",
   "nbconvert_exporter": "python",
   "pygments_lexer": "ipython3",
   "version": "3.10.9"
  },
  "orig_nbformat": 4
 },
 "nbformat": 4,
 "nbformat_minor": 2
}
