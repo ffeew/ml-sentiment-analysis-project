{
 "cells": [
  {
   "cell_type": "code",
   "execution_count": 3,
   "metadata": {},
   "outputs": [],
   "source": [
    "from xgboost import XGBClassifier\n",
    "import pandas as pd\n",
    "from sklearn.model_selection import train_test_split\n",
    "from sklearn.metrics import classification_report\n",
    "from sklearn.preprocessing import LabelEncoder\n",
    "from sklearn.feature_extraction.text import TfidfVectorizer"
   ]
  },
  {
   "cell_type": "code",
   "execution_count": 13,
   "metadata": {},
   "outputs": [],
   "source": [
    "def generateDf(path):\n",
    "    data = []\n",
    "    with open(path, 'r') as f:\n",
    "      for line in f.readlines():\n",
    "        data.append(line[:-1].split(' '))\n",
    "    return pd.DataFrame(data, columns=[\"word\", \"tag\"])"
   ]
  },
  {
   "attachments": {},
   "cell_type": "markdown",
   "metadata": {},
   "source": [
    "# Test single word prediction with XGBoost (English)"
   ]
  },
  {
   "cell_type": "code",
   "execution_count": 3,
   "metadata": {},
   "outputs": [],
   "source": [
    "df = generateDf(\"EN/combined.txt\")\n",
    "df = df.dropna()"
   ]
  },
  {
   "cell_type": "code",
   "execution_count": 5,
   "metadata": {},
   "outputs": [
    {
     "data": {
      "text/plain": [
       "<12127x3335 sparse matrix of type '<class 'numpy.float64'>'\n",
       "\twith 10098 stored elements in Compressed Sparse Row format>"
      ]
     },
     "execution_count": 5,
     "metadata": {},
     "output_type": "execute_result"
    }
   ],
   "source": [
    "vect = TfidfVectorizer()\n",
    "vect.fit(df['word'])\n",
    "X_tfidf = vect.transform(df['word'])\n",
    "X_tfidf"
   ]
  },
  {
   "cell_type": "code",
   "execution_count": 6,
   "metadata": {},
   "outputs": [],
   "source": [
    "le = LabelEncoder()\n",
    "le.fit(df['tag'])\n",
    "y = le.transform(df['tag'])"
   ]
  },
  {
   "cell_type": "code",
   "execution_count": 10,
   "metadata": {},
   "outputs": [
    {
     "data": {
      "text/plain": [
       "array(['B-ADJP', 'B-ADVP', 'B-CONJP', 'B-INTJ', 'B-NP', 'B-PP', 'B-PRT',\n",
       "       'B-SBAR', 'B-VP', 'I-ADJP', 'I-ADVP', 'I-CONJP', 'I-INTJ', 'I-NP',\n",
       "       'I-PP', 'I-SBAR', 'I-VP', 'O'], dtype=object)"
      ]
     },
     "execution_count": 10,
     "metadata": {},
     "output_type": "execute_result"
    }
   ],
   "source": [
    "le.classes_"
   ]
  },
  {
   "cell_type": "code",
   "execution_count": 7,
   "metadata": {},
   "outputs": [],
   "source": [
    "X_train, X_test, y_train, y_test = train_test_split(X_tfidf, y, test_size=0.2)"
   ]
  },
  {
   "cell_type": "code",
   "execution_count": 18,
   "metadata": {},
   "outputs": [
    {
     "name": "stdout",
     "output_type": "stream",
     "text": [
      "              precision    recall  f1-score   support\n",
      "\n",
      "      B-ADJP       0.38      0.21      0.27        38\n",
      "      B-ADVP       0.89      0.34      0.49        97\n",
      "     B-CONJP       0.00      0.00      0.00         1\n",
      "      B-INTJ       0.53      0.18      0.27        49\n",
      "        B-NP       0.85      0.47      0.61       629\n",
      "        B-PP       0.84      0.82      0.83       182\n",
      "       B-PRT       0.77      0.92      0.84        25\n",
      "      B-SBAR       0.62      0.29      0.40        17\n",
      "        B-VP       0.80      0.42      0.55       280\n",
      "      I-ADJP       0.00      0.00      0.00         8\n",
      "      I-ADVP       0.00      0.00      0.00        12\n",
      "      I-INTJ       0.00      0.00      0.00        18\n",
      "        I-NP       0.66      0.25      0.36       428\n",
      "      I-SBAR       0.00      0.00      0.00         1\n",
      "        I-VP       0.64      0.16      0.25       159\n",
      "           O       0.33      0.98      0.49       482\n",
      "\n",
      "    accuracy                           0.51      2426\n",
      "   macro avg       0.46      0.32      0.34      2426\n",
      "weighted avg       0.66      0.51      0.50      2426\n",
      "\n"
     ]
    },
    {
     "name": "stderr",
     "output_type": "stream",
     "text": [
      "/home/codespace/.local/lib/python3.10/site-packages/sklearn/metrics/_classification.py:1344: UndefinedMetricWarning: Precision and F-score are ill-defined and being set to 0.0 in labels with no predicted samples. Use `zero_division` parameter to control this behavior.\n",
      "  _warn_prf(average, modifier, msg_start, len(result))\n",
      "/home/codespace/.local/lib/python3.10/site-packages/sklearn/metrics/_classification.py:1344: UndefinedMetricWarning: Precision and F-score are ill-defined and being set to 0.0 in labels with no predicted samples. Use `zero_division` parameter to control this behavior.\n",
      "  _warn_prf(average, modifier, msg_start, len(result))\n",
      "/home/codespace/.local/lib/python3.10/site-packages/sklearn/metrics/_classification.py:1344: UndefinedMetricWarning: Precision and F-score are ill-defined and being set to 0.0 in labels with no predicted samples. Use `zero_division` parameter to control this behavior.\n",
      "  _warn_prf(average, modifier, msg_start, len(result))\n"
     ]
    }
   ],
   "source": [
    "classifier = XGBClassifier()\n",
    "classifier.fit(X_train, y_train)\n",
    "prediction = classifier.predict(X_test)\n",
    "print(classification_report(le.inverse_transform(y_test), le.inverse_transform(prediction)))"
   ]
  },
  {
   "cell_type": "code",
   "execution_count": 17,
   "metadata": {},
   "outputs": [
    {
     "data": {
      "text/plain": [
       "array(['B-VP', 'O', 'O', ..., 'O', 'O', 'O'], dtype=object)"
      ]
     },
     "execution_count": 17,
     "metadata": {},
     "output_type": "execute_result"
    }
   ],
   "source": [
    "le.inverse_transform(prediction)"
   ]
  },
  {
   "cell_type": "code",
   "execution_count": 23,
   "metadata": {},
   "outputs": [
    {
     "data": {
      "text/html": [
       "<div>\n",
       "<style scoped>\n",
       "    .dataframe tbody tr th:only-of-type {\n",
       "        vertical-align: middle;\n",
       "    }\n",
       "\n",
       "    .dataframe tbody tr th {\n",
       "        vertical-align: top;\n",
       "    }\n",
       "\n",
       "    .dataframe thead th {\n",
       "        text-align: right;\n",
       "    }\n",
       "</style>\n",
       "<table border=\"1\" class=\"dataframe\">\n",
       "  <thead>\n",
       "    <tr style=\"text-align: right;\">\n",
       "      <th></th>\n",
       "      <th>text</th>\n",
       "      <th>tag</th>\n",
       "    </tr>\n",
       "  </thead>\n",
       "  <tbody>\n",
       "    <tr>\n",
       "      <th>0</th>\n",
       "      <td>RT @shaunproulx : Encore ! @bifnaked for the w...</td>\n",
       "      <td>O O O B-INTJ O O B-PP B-NP I-NP O B-NP O B-NP ...</td>\n",
       "    </tr>\n",
       "    <tr>\n",
       "      <th>1</th>\n",
       "      <td>Pick up here . Deliver on Dayton NJ tomorrow (...</td>\n",
       "      <td>B-VP B-PRT B-NP O B-VP B-PP B-NP I-NP B-NP B-P...</td>\n",
       "    </tr>\n",
       "    <tr>\n",
       "      <th>2</th>\n",
       "      <td>Cant wait for the ravens game tomorrow .... go...</td>\n",
       "      <td>B-VP I-VP B-PP B-NP I-NP I-NP B-NP O B-VP B-NP...</td>\n",
       "    </tr>\n",
       "    <tr>\n",
       "      <th>3</th>\n",
       "      <td>@CELLY32 I went to kolb for a week lol that sh...</td>\n",
       "      <td>O B-NP B-VP B-PP B-NP B-PP B-NP I-NP B-INTJ B-...</td>\n",
       "    </tr>\n",
       "    <tr>\n",
       "      <th>4</th>\n",
       "      <td>the day you go shirtless in school is the day ...</td>\n",
       "      <td>B-NP I-NP B-NP B-VP B-ADJP B-PP B-NP B-VP B-NP...</td>\n",
       "    </tr>\n",
       "    <tr>\n",
       "      <th>...</th>\n",
       "      <td>...</td>\n",
       "      <td>...</td>\n",
       "    </tr>\n",
       "    <tr>\n",
       "      <th>625</th>\n",
       "      <td>@jaredleto ... ive been to 13 30stm concerts n...</td>\n",
       "      <td>O O B-VP I-VP B-PP B-NP I-NP I-NP B-ADVP O B-N...</td>\n",
       "    </tr>\n",
       "    <tr>\n",
       "      <th>626</th>\n",
       "      <td>http://bit.ly/aTTQYq When Pepsi to ring usuall...</td>\n",
       "      <td>O B-ADVP B-NP B-VP I-VP I-VP I-VP B-PP O B-VP ...</td>\n",
       "    </tr>\n",
       "    <tr>\n",
       "      <th>627</th>\n",
       "      <td>@Jezkwon @kpop_stuff Tweet me a member for pic...</td>\n",
       "      <td>O O B-VP B-NP B-NP I-NP B-PP B-NP O B-VP I-VP ...</td>\n",
       "    </tr>\n",
       "    <tr>\n",
       "      <th>628</th>\n",
       "      <td>@BexsterBexster @shinobi32768 I 've been havin...</td>\n",
       "      <td>O O B-NP B-VP I-VP I-VP B-NP B-NP I-NP O B-VP ...</td>\n",
       "    </tr>\n",
       "    <tr>\n",
       "      <th>629</th>\n",
       "      <td></td>\n",
       "      <td></td>\n",
       "    </tr>\n",
       "  </tbody>\n",
       "</table>\n",
       "<p>630 rows × 2 columns</p>\n",
       "</div>"
      ],
      "text/plain": [
       "                                                  text   \n",
       "0    RT @shaunproulx : Encore ! @bifnaked for the w...  \\\n",
       "1    Pick up here . Deliver on Dayton NJ tomorrow (...   \n",
       "2    Cant wait for the ravens game tomorrow .... go...   \n",
       "3    @CELLY32 I went to kolb for a week lol that sh...   \n",
       "4    the day you go shirtless in school is the day ...   \n",
       "..                                                 ...   \n",
       "625  @jaredleto ... ive been to 13 30stm concerts n...   \n",
       "626  http://bit.ly/aTTQYq When Pepsi to ring usuall...   \n",
       "627  @Jezkwon @kpop_stuff Tweet me a member for pic...   \n",
       "628  @BexsterBexster @shinobi32768 I 've been havin...   \n",
       "629                                                      \n",
       "\n",
       "                                                   tag  \n",
       "0    O O O B-INTJ O O B-PP B-NP I-NP O B-NP O B-NP ...  \n",
       "1    B-VP B-PRT B-NP O B-VP B-PP B-NP I-NP B-NP B-P...  \n",
       "2    B-VP I-VP B-PP B-NP I-NP I-NP B-NP O B-VP B-NP...  \n",
       "3    O B-NP B-VP B-PP B-NP B-PP B-NP I-NP B-INTJ B-...  \n",
       "4    B-NP I-NP B-NP B-VP B-ADJP B-PP B-NP B-VP B-NP...  \n",
       "..                                                 ...  \n",
       "625  O O B-VP I-VP B-PP B-NP I-NP I-NP B-ADVP O B-N...  \n",
       "626  O B-ADVP B-NP B-VP I-VP I-VP I-VP B-PP O B-VP ...  \n",
       "627  O O B-VP B-NP B-NP I-NP B-PP B-NP O B-VP I-VP ...  \n",
       "628  O O B-NP B-VP I-VP I-VP B-NP B-NP I-NP O B-VP ...  \n",
       "629                                                     \n",
       "\n",
       "[630 rows x 2 columns]"
      ]
     },
     "execution_count": 23,
     "metadata": {},
     "output_type": "execute_result"
    }
   ],
   "source": [
    "def generateDfofTweets(path):\n",
    "    with open(path, 'r') as f:\n",
    "      data_in= f.read()\n",
    "    labeled_tweets = data_in.split('\\n\\n')\n",
    "\n",
    "    split_tweets = []\n",
    "    for labeled_tweet in labeled_tweets:\n",
    "      word_tag = labeled_tweet.split('\\n')\n",
    "      tweet_text = []\n",
    "      tweet_tag = []\n",
    "      for word_tag_pair in word_tag:\n",
    "        word_tag_pair = word_tag_pair.split(' ')\n",
    "        tweet_text.append(word_tag_pair[0])\n",
    "        tweet_tag.append(word_tag_pair[-1])\n",
    "      split_tweets.append([\" \".join(tweet_text), \" \".join(tweet_tag)])\n",
    "\n",
    "    return pd.DataFrame(split_tweets, columns=[\"text\", \"tag\"])\n",
    "df = generateDfofTweets(\"EN/combined.txt\")\n",
    "df"
   ]
  },
  {
   "cell_type": "code",
   "execution_count": 25,
   "metadata": {},
   "outputs": [],
   "source": [
    "def generateDfofEntities(path):\n",
    "    with open(path, 'r') as f:\n",
    "      data_in= f.read()\n",
    "    labeled_lines = data_in.split('\\n')\n",
    "\n",
    "    output = []\n",
    "    entity = []\n",
    "    entity_tag = []\n",
    "    for line in labeled_lines:\n",
    "      if line == \"\":\n",
    "         continue\n",
    "      word, tag = line.split(' ')\n",
    "      if tag==\"O\":\n",
    "        # check if previous entity is complete\n",
    "        if len(entity)>0:\n",
    "          output.append([\" \".join(entity), \" \".join(entity_tag)])\n",
    "          # reset entity\n",
    "          entity=[]\n",
    "          entity_tag=[]\n",
    "        output.append([word, tag])\n",
    "        continue\n",
    "\n",
    "      current_pos, current_tag = tag.split('-')\n",
    "\n",
    "      if current_pos==\"B\":\n",
    "        # check if previous entity is complete\n",
    "        if len(entity)>0:\n",
    "          output.append([\" \".join(entity), \" \".join(entity_tag)])\n",
    "\n",
    "        # reset entity\n",
    "        entity=[word]\n",
    "        entity_tag=[tag]\n",
    "        continue\n",
    "\n",
    "      elif current_pos==\"I\":\n",
    "        # add to entity\n",
    "        entity.append(word)\n",
    "        entity_tag.append(tag)\n",
    "        continue\n",
    "\n",
    "    return pd.DataFrame(output, columns=[\"entity\", \"tag\"])\n"
   ]
  },
  {
   "attachments": {},
   "cell_type": "markdown",
   "metadata": {},
   "source": [
    "# Test entity prediction with XGBoost (English)"
   ]
  },
  {
   "cell_type": "code",
   "execution_count": 26,
   "metadata": {},
   "outputs": [
    {
     "data": {
      "text/html": [
       "<div>\n",
       "<style scoped>\n",
       "    .dataframe tbody tr th:only-of-type {\n",
       "        vertical-align: middle;\n",
       "    }\n",
       "\n",
       "    .dataframe tbody tr th {\n",
       "        vertical-align: top;\n",
       "    }\n",
       "\n",
       "    .dataframe thead th {\n",
       "        text-align: right;\n",
       "    }\n",
       "</style>\n",
       "<table border=\"1\" class=\"dataframe\">\n",
       "  <thead>\n",
       "    <tr style=\"text-align: right;\">\n",
       "      <th></th>\n",
       "      <th>entity</th>\n",
       "      <th>tag</th>\n",
       "    </tr>\n",
       "  </thead>\n",
       "  <tbody>\n",
       "    <tr>\n",
       "      <th>0</th>\n",
       "      <td>RT</td>\n",
       "      <td>O</td>\n",
       "    </tr>\n",
       "    <tr>\n",
       "      <th>1</th>\n",
       "      <td>@shaunproulx</td>\n",
       "      <td>O</td>\n",
       "    </tr>\n",
       "    <tr>\n",
       "      <th>2</th>\n",
       "      <td>:</td>\n",
       "      <td>O</td>\n",
       "    </tr>\n",
       "    <tr>\n",
       "      <th>3</th>\n",
       "      <td>Encore</td>\n",
       "      <td>B-INTJ</td>\n",
       "    </tr>\n",
       "    <tr>\n",
       "      <th>4</th>\n",
       "      <td>!</td>\n",
       "      <td>O</td>\n",
       "    </tr>\n",
       "    <tr>\n",
       "      <th>...</th>\n",
       "      <td>...</td>\n",
       "      <td>...</td>\n",
       "    </tr>\n",
       "    <tr>\n",
       "      <th>9061</th>\n",
       "      <td>.</td>\n",
       "      <td>O</td>\n",
       "    </tr>\n",
       "    <tr>\n",
       "      <th>9062</th>\n",
       "      <td>It</td>\n",
       "      <td>B-NP</td>\n",
       "    </tr>\n",
       "    <tr>\n",
       "      <th>9063</th>\n",
       "      <td>'s starting to taste</td>\n",
       "      <td>B-VP I-VP I-VP I-VP</td>\n",
       "    </tr>\n",
       "    <tr>\n",
       "      <th>9064</th>\n",
       "      <td>pretty much the same</td>\n",
       "      <td>B-ADJP I-ADJP I-ADJP I-ADJP</td>\n",
       "    </tr>\n",
       "    <tr>\n",
       "      <th>9065</th>\n",
       "      <td>.</td>\n",
       "      <td>O</td>\n",
       "    </tr>\n",
       "  </tbody>\n",
       "</table>\n",
       "<p>9066 rows × 2 columns</p>\n",
       "</div>"
      ],
      "text/plain": [
       "                    entity                          tag\n",
       "0                       RT                            O\n",
       "1             @shaunproulx                            O\n",
       "2                        :                            O\n",
       "3                   Encore                       B-INTJ\n",
       "4                        !                            O\n",
       "...                    ...                          ...\n",
       "9061                     .                            O\n",
       "9062                    It                         B-NP\n",
       "9063  's starting to taste          B-VP I-VP I-VP I-VP\n",
       "9064  pretty much the same  B-ADJP I-ADJP I-ADJP I-ADJP\n",
       "9065                     .                            O\n",
       "\n",
       "[9066 rows x 2 columns]"
      ]
     },
     "execution_count": 26,
     "metadata": {},
     "output_type": "execute_result"
    }
   ],
   "source": [
    "df = generateDfofEntities(\"EN/combined.txt\")\n",
    "df"
   ]
  },
  {
   "cell_type": "code",
   "execution_count": 20,
   "metadata": {},
   "outputs": [
    {
     "data": {
      "text/plain": [
       "<9066x3335 sparse matrix of type '<class 'numpy.float64'>'\n",
       "\twith 10081 stored elements in Compressed Sparse Row format>"
      ]
     },
     "execution_count": 20,
     "metadata": {},
     "output_type": "execute_result"
    }
   ],
   "source": [
    "vect = TfidfVectorizer()\n",
    "vect.fit(df['entity'])\n",
    "X_tfidf = vect.transform(df['entity'])\n",
    "X_tfidf"
   ]
  },
  {
   "cell_type": "code",
   "execution_count": 22,
   "metadata": {},
   "outputs": [
    {
     "data": {
      "text/plain": [
       "array([46, 46, 46, ..., 40,  3, 46])"
      ]
     },
     "execution_count": 22,
     "metadata": {},
     "output_type": "execute_result"
    }
   ],
   "source": [
    "le = LabelEncoder()\n",
    "le.fit(df['tag'])\n",
    "y = le.transform(df['tag'])\n",
    "y"
   ]
  },
  {
   "cell_type": "code",
   "execution_count": 31,
   "metadata": {},
   "outputs": [],
   "source": [
    "X_train, X_test, y_train, y_test = train_test_split(X_tfidf, y, test_size=0.2)"
   ]
  },
  {
   "cell_type": "code",
   "execution_count": 33,
   "metadata": {},
   "outputs": [
    {
     "name": "stdout",
     "output_type": "stream",
     "text": [
      "                                              precision    recall  f1-score   support\n",
      "\n",
      "                                      B-ADJP       0.43      0.11      0.17        28\n",
      "                               B-ADJP I-ADJP       1.00      0.44      0.62         9\n",
      "                        B-ADJP I-ADJP I-ADJP       1.00      0.33      0.50         3\n",
      "                                 B-ADJP I-NP       0.00      0.00      0.00         1\n",
      "                                      B-ADVP       0.85      0.54      0.66        72\n",
      "                               B-ADVP I-ADVP       0.83      0.62      0.71         8\n",
      "                        B-ADVP I-ADVP I-ADVP       1.00      1.00      1.00         1\n",
      "                               B-ADVP I-INTJ       0.00      0.00      0.00         1\n",
      "                                      B-INTJ       0.89      0.15      0.26        53\n",
      "                               B-INTJ I-INTJ       0.00      0.00      0.00        12\n",
      "                        B-INTJ I-INTJ I-INTJ       0.00      0.00      0.00         2\n",
      "                 B-INTJ I-INTJ I-INTJ I-INTJ       0.00      0.00      0.00         2\n",
      "                                        B-NP       0.87      0.52      0.65       376\n",
      "                                   B-NP I-NP       0.91      0.59      0.71       178\n",
      "                              B-NP I-NP I-NP       0.87      0.56      0.68        61\n",
      "                         B-NP I-NP I-NP I-NP       0.83      0.53      0.65        19\n",
      "                    B-NP I-NP I-NP I-NP I-NP       1.00      0.29      0.44         7\n",
      "               B-NP I-NP I-NP I-NP I-NP I-NP       1.00      1.00      1.00         2\n",
      "          B-NP I-NP I-NP I-NP I-NP I-NP I-NP       1.00      1.00      1.00         1\n",
      "B-NP I-NP I-NP I-NP I-NP I-NP I-NP I-NP I-NP       0.00      0.00      0.00         2\n",
      "                                        B-PP       0.96      0.88      0.92       160\n",
      "                                   B-PP I-PP       0.00      0.00      0.00         2\n",
      "                              B-PP I-PP I-PP       0.00      0.00      0.00         1\n",
      "                                       B-PRT       0.73      0.70      0.71        23\n",
      "                                      B-SBAR       1.00      0.32      0.48        19\n",
      "                               B-SBAR I-SBAR       0.00      0.00      0.00         1\n",
      "                                        B-VP       0.97      0.41      0.58       210\n",
      "                                   B-VP I-NP       0.00      0.00      0.00         1\n",
      "                                   B-VP I-VP       1.00      0.75      0.86        52\n",
      "                              B-VP I-VP I-VP       0.94      0.88      0.91        17\n",
      "                         B-VP I-VP I-VP I-VP       1.00      0.83      0.91         6\n",
      "                    B-VP I-VP I-VP I-VP I-VP       1.00      1.00      1.00         1\n",
      "                                   I-NP I-NP       0.00      0.00      0.00         1\n",
      "                                           O       0.47      0.99      0.64       482\n",
      "\n",
      "                                    accuracy                           0.66      1814\n",
      "                                   macro avg       0.60      0.42      0.47      1814\n",
      "                                weighted avg       0.77      0.66      0.65      1814\n",
      "\n"
     ]
    },
    {
     "name": "stderr",
     "output_type": "stream",
     "text": [
      "/home/codespace/.local/lib/python3.10/site-packages/sklearn/metrics/_classification.py:1344: UndefinedMetricWarning: Precision and F-score are ill-defined and being set to 0.0 in labels with no predicted samples. Use `zero_division` parameter to control this behavior.\n",
      "  _warn_prf(average, modifier, msg_start, len(result))\n",
      "/home/codespace/.local/lib/python3.10/site-packages/sklearn/metrics/_classification.py:1344: UndefinedMetricWarning: Precision and F-score are ill-defined and being set to 0.0 in labels with no predicted samples. Use `zero_division` parameter to control this behavior.\n",
      "  _warn_prf(average, modifier, msg_start, len(result))\n",
      "/home/codespace/.local/lib/python3.10/site-packages/sklearn/metrics/_classification.py:1344: UndefinedMetricWarning: Precision and F-score are ill-defined and being set to 0.0 in labels with no predicted samples. Use `zero_division` parameter to control this behavior.\n",
      "  _warn_prf(average, modifier, msg_start, len(result))\n"
     ]
    }
   ],
   "source": [
    "classifier = XGBClassifier()\n",
    "# unable to train the classifier using the train_test split since the number of classes are different (some classes are not present in the training set, leading to an error)\n",
    "classifier.fit(X_tfidf, y)\n",
    "# predicting using part of the training data may return an overly optimistic result, but it can still give a gist of the performance of the classifier\n",
    "prediction = classifier.predict(X_test)\n",
    "print(classification_report(le.inverse_transform(y_test), le.inverse_transform(prediction)))"
   ]
  },
  {
   "attachments": {},
   "cell_type": "markdown",
   "metadata": {},
   "source": [
    "# Test entity prediction with XGBoost (French)"
   ]
  },
  {
   "cell_type": "code",
   "execution_count": 5,
   "metadata": {},
   "outputs": [
    {
     "data": {
      "text/html": [
       "<div>\n",
       "<style scoped>\n",
       "    .dataframe tbody tr th:only-of-type {\n",
       "        vertical-align: middle;\n",
       "    }\n",
       "\n",
       "    .dataframe tbody tr th {\n",
       "        vertical-align: top;\n",
       "    }\n",
       "\n",
       "    .dataframe thead th {\n",
       "        text-align: right;\n",
       "    }\n",
       "</style>\n",
       "<table border=\"1\" class=\"dataframe\">\n",
       "  <thead>\n",
       "    <tr style=\"text-align: right;\">\n",
       "      <th></th>\n",
       "      <th>entity</th>\n",
       "      <th>tag</th>\n",
       "    </tr>\n",
       "  </thead>\n",
       "  <tbody>\n",
       "    <tr>\n",
       "      <th>0</th>\n",
       "      <td>Nous</td>\n",
       "      <td>O</td>\n",
       "    </tr>\n",
       "    <tr>\n",
       "      <th>1</th>\n",
       "      <td>avons</td>\n",
       "      <td>O</td>\n",
       "    </tr>\n",
       "    <tr>\n",
       "      <th>2</th>\n",
       "      <td>tout</td>\n",
       "      <td>O</td>\n",
       "    </tr>\n",
       "    <tr>\n",
       "      <th>3</th>\n",
       "      <td>aimé</td>\n",
       "      <td>O</td>\n",
       "    </tr>\n",
       "    <tr>\n",
       "      <th>4</th>\n",
       "      <td>.</td>\n",
       "      <td>O</td>\n",
       "    </tr>\n",
       "    <tr>\n",
       "      <th>...</th>\n",
       "      <td>...</td>\n",
       "      <td>...</td>\n",
       "    </tr>\n",
       "    <tr>\n",
       "      <th>29482</th>\n",
       "      <td>avec</td>\n",
       "      <td>O</td>\n",
       "    </tr>\n",
       "    <tr>\n",
       "      <th>29483</th>\n",
       "      <td>des</td>\n",
       "      <td>O</td>\n",
       "    </tr>\n",
       "    <tr>\n",
       "      <th>29484</th>\n",
       "      <td>bons</td>\n",
       "      <td>O</td>\n",
       "    </tr>\n",
       "    <tr>\n",
       "      <th>29485</th>\n",
       "      <td>conseils</td>\n",
       "      <td>O</td>\n",
       "    </tr>\n",
       "    <tr>\n",
       "      <th>29486</th>\n",
       "      <td>.</td>\n",
       "      <td>O</td>\n",
       "    </tr>\n",
       "  </tbody>\n",
       "</table>\n",
       "<p>29487 rows × 2 columns</p>\n",
       "</div>"
      ],
      "text/plain": [
       "         entity tag\n",
       "0          Nous   O\n",
       "1         avons   O\n",
       "2          tout   O\n",
       "3          aimé   O\n",
       "4             .   O\n",
       "...         ...  ..\n",
       "29482      avec   O\n",
       "29483       des   O\n",
       "29484      bons   O\n",
       "29485  conseils   O\n",
       "29486         .   O\n",
       "\n",
       "[29487 rows x 2 columns]"
      ]
     },
     "execution_count": 5,
     "metadata": {},
     "output_type": "execute_result"
    }
   ],
   "source": [
    "df_fr = generateDfofEntities(\"FR/combined.txt\")\n",
    "df_fr"
   ]
  },
  {
   "cell_type": "code",
   "execution_count": 7,
   "metadata": {},
   "outputs": [
    {
     "data": {
      "text/plain": [
       "array([22, 22, 22, ..., 22, 22, 22])"
      ]
     },
     "execution_count": 7,
     "metadata": {},
     "output_type": "execute_result"
    }
   ],
   "source": [
    "le = LabelEncoder()\n",
    "le.fit(df_fr['tag'])\n",
    "y = le.transform(df_fr['tag'])\n",
    "y"
   ]
  },
  {
   "cell_type": "code",
   "execution_count": 8,
   "metadata": {},
   "outputs": [
    {
     "data": {
      "text/plain": [
       "<29487x3952 sparse matrix of type '<class 'numpy.float64'>'\n",
       "\twith 25046 stored elements in Compressed Sparse Row format>"
      ]
     },
     "execution_count": 8,
     "metadata": {},
     "output_type": "execute_result"
    }
   ],
   "source": [
    "vect = TfidfVectorizer()\n",
    "vect.fit(df_fr['entity'])\n",
    "X_tfidf = vect.transform(df_fr['entity'])\n",
    "X_tfidf"
   ]
  },
  {
   "cell_type": "code",
   "execution_count": 9,
   "metadata": {},
   "outputs": [],
   "source": [
    "X_train, X_test, y_train, y_test = train_test_split(X_tfidf, y, test_size=0.2)"
   ]
  },
  {
   "cell_type": "code",
   "execution_count": 11,
   "metadata": {},
   "outputs": [
    {
     "name": "stdout",
     "output_type": "stream",
     "text": [
      "                                                        precision    recall  f1-score   support\n",
      "\n",
      "                                            B-negative       0.35      0.21      0.26       115\n",
      "                                 B-negative I-negative       0.00      0.00      0.00        11\n",
      "                      B-negative I-negative I-negative       0.54      0.54      0.54        13\n",
      "           B-negative I-negative I-negative I-negative       1.00      0.25      0.40         4\n",
      "B-negative I-negative I-negative I-negative I-negative       0.50      0.50      0.50         2\n",
      "                                             B-neutral       0.00      0.00      0.00        24\n",
      "                                   B-neutral I-neutral       0.00      0.00      0.00         2\n",
      "                         B-neutral I-neutral I-neutral       0.00      0.00      0.00         3\n",
      "               B-neutral I-neutral I-neutral I-neutral       0.00      0.00      0.00         1\n",
      "                                            B-positive       0.55      0.32      0.41       162\n",
      "                                 B-positive I-positive       1.00      0.08      0.14        13\n",
      "                      B-positive I-positive I-positive       0.17      0.17      0.17         6\n",
      "           B-positive I-positive I-positive I-positive       0.00      0.00      0.00         0\n",
      "B-positive I-positive I-positive I-positive I-positive       0.00      0.00      0.00         2\n",
      "                                                     O       0.97      0.99      0.98      5540\n",
      "\n",
      "                                              accuracy                           0.95      5898\n",
      "                                             macro avg       0.34      0.20      0.23      5898\n",
      "                                          weighted avg       0.93      0.95      0.94      5898\n",
      "\n"
     ]
    },
    {
     "name": "stderr",
     "output_type": "stream",
     "text": [
      "/home/codespace/.local/lib/python3.10/site-packages/sklearn/metrics/_classification.py:1344: UndefinedMetricWarning: Precision and F-score are ill-defined and being set to 0.0 in labels with no predicted samples. Use `zero_division` parameter to control this behavior.\n",
      "  _warn_prf(average, modifier, msg_start, len(result))\n",
      "/home/codespace/.local/lib/python3.10/site-packages/sklearn/metrics/_classification.py:1344: UndefinedMetricWarning: Recall and F-score are ill-defined and being set to 0.0 in labels with no true samples. Use `zero_division` parameter to control this behavior.\n",
      "  _warn_prf(average, modifier, msg_start, len(result))\n",
      "/home/codespace/.local/lib/python3.10/site-packages/sklearn/metrics/_classification.py:1344: UndefinedMetricWarning: Precision and F-score are ill-defined and being set to 0.0 in labels with no predicted samples. Use `zero_division` parameter to control this behavior.\n",
      "  _warn_prf(average, modifier, msg_start, len(result))\n",
      "/home/codespace/.local/lib/python3.10/site-packages/sklearn/metrics/_classification.py:1344: UndefinedMetricWarning: Recall and F-score are ill-defined and being set to 0.0 in labels with no true samples. Use `zero_division` parameter to control this behavior.\n",
      "  _warn_prf(average, modifier, msg_start, len(result))\n",
      "/home/codespace/.local/lib/python3.10/site-packages/sklearn/metrics/_classification.py:1344: UndefinedMetricWarning: Precision and F-score are ill-defined and being set to 0.0 in labels with no predicted samples. Use `zero_division` parameter to control this behavior.\n",
      "  _warn_prf(average, modifier, msg_start, len(result))\n",
      "/home/codespace/.local/lib/python3.10/site-packages/sklearn/metrics/_classification.py:1344: UndefinedMetricWarning: Recall and F-score are ill-defined and being set to 0.0 in labels with no true samples. Use `zero_division` parameter to control this behavior.\n",
      "  _warn_prf(average, modifier, msg_start, len(result))\n"
     ]
    }
   ],
   "source": [
    "classifier = XGBClassifier()\n",
    "# unable to train the classifier using the train_test split since the number of classes are different (some classes are not present in the training set, leading to an error)\n",
    "classifier.fit(X_train, y_train)\n",
    "# predicting using part of the training data may return an overly optimistic result, but it can still give a gist of the performance of the classifier\n",
    "prediction = classifier.predict(X_test)\n",
    "print(classification_report(le.inverse_transform(y_test), le.inverse_transform(prediction)))"
   ]
  },
  {
   "attachments": {},
   "cell_type": "markdown",
   "metadata": {},
   "source": [
    "# Test single word prediction with XGBoost (French)"
   ]
  },
  {
   "cell_type": "code",
   "execution_count": 20,
   "metadata": {},
   "outputs": [
    {
     "data": {
      "text/html": [
       "<div>\n",
       "<style scoped>\n",
       "    .dataframe tbody tr th:only-of-type {\n",
       "        vertical-align: middle;\n",
       "    }\n",
       "\n",
       "    .dataframe tbody tr th {\n",
       "        vertical-align: top;\n",
       "    }\n",
       "\n",
       "    .dataframe thead th {\n",
       "        text-align: right;\n",
       "    }\n",
       "</style>\n",
       "<table border=\"1\" class=\"dataframe\">\n",
       "  <thead>\n",
       "    <tr style=\"text-align: right;\">\n",
       "      <th></th>\n",
       "      <th>word</th>\n",
       "      <th>tag</th>\n",
       "    </tr>\n",
       "  </thead>\n",
       "  <tbody>\n",
       "    <tr>\n",
       "      <th>0</th>\n",
       "      <td>Nous</td>\n",
       "      <td>O</td>\n",
       "    </tr>\n",
       "    <tr>\n",
       "      <th>1</th>\n",
       "      <td>avons</td>\n",
       "      <td>O</td>\n",
       "    </tr>\n",
       "    <tr>\n",
       "      <th>2</th>\n",
       "      <td>tout</td>\n",
       "      <td>O</td>\n",
       "    </tr>\n",
       "    <tr>\n",
       "      <th>3</th>\n",
       "      <td>aimé</td>\n",
       "      <td>O</td>\n",
       "    </tr>\n",
       "    <tr>\n",
       "      <th>4</th>\n",
       "      <td>.</td>\n",
       "      <td>O</td>\n",
       "    </tr>\n",
       "    <tr>\n",
       "      <th>...</th>\n",
       "      <td>...</td>\n",
       "      <td>...</td>\n",
       "    </tr>\n",
       "    <tr>\n",
       "      <th>31893</th>\n",
       "      <td>avec</td>\n",
       "      <td>O</td>\n",
       "    </tr>\n",
       "    <tr>\n",
       "      <th>31894</th>\n",
       "      <td>des</td>\n",
       "      <td>O</td>\n",
       "    </tr>\n",
       "    <tr>\n",
       "      <th>31895</th>\n",
       "      <td>bons</td>\n",
       "      <td>O</td>\n",
       "    </tr>\n",
       "    <tr>\n",
       "      <th>31896</th>\n",
       "      <td>conseils</td>\n",
       "      <td>O</td>\n",
       "    </tr>\n",
       "    <tr>\n",
       "      <th>31897</th>\n",
       "      <td>.</td>\n",
       "      <td>O</td>\n",
       "    </tr>\n",
       "  </tbody>\n",
       "</table>\n",
       "<p>30035 rows × 2 columns</p>\n",
       "</div>"
      ],
      "text/plain": [
       "           word tag\n",
       "0          Nous   O\n",
       "1         avons   O\n",
       "2          tout   O\n",
       "3          aimé   O\n",
       "4             .   O\n",
       "...         ...  ..\n",
       "31893      avec   O\n",
       "31894       des   O\n",
       "31895      bons   O\n",
       "31896  conseils   O\n",
       "31897         .   O\n",
       "\n",
       "[30035 rows x 2 columns]"
      ]
     },
     "execution_count": 20,
     "metadata": {},
     "output_type": "execute_result"
    }
   ],
   "source": [
    "df_fr = generateDf(\"FR/combined.txt\")\n",
    "df_fr = df_fr.dropna()\n",
    "df_fr"
   ]
  },
  {
   "cell_type": "code",
   "execution_count": 21,
   "metadata": {},
   "outputs": [
    {
     "data": {
      "text/plain": [
       "array([6, 6, 6, ..., 6, 6, 6])"
      ]
     },
     "execution_count": 21,
     "metadata": {},
     "output_type": "execute_result"
    }
   ],
   "source": [
    "le = LabelEncoder()\n",
    "le.fit(df_fr['tag'])\n",
    "y = le.transform(df_fr['tag'])\n",
    "y"
   ]
  },
  {
   "cell_type": "code",
   "execution_count": 22,
   "metadata": {},
   "outputs": [
    {
     "data": {
      "text/plain": [
       "<30035x3952 sparse matrix of type '<class 'numpy.float64'>'\n",
       "\twith 25049 stored elements in Compressed Sparse Row format>"
      ]
     },
     "execution_count": 22,
     "metadata": {},
     "output_type": "execute_result"
    }
   ],
   "source": [
    "vect = TfidfVectorizer()\n",
    "vect.fit(df_fr['word'])\n",
    "X_tfidf = vect.transform(df_fr['word'])\n",
    "X_tfidf"
   ]
  },
  {
   "cell_type": "code",
   "execution_count": 23,
   "metadata": {},
   "outputs": [],
   "source": [
    "X_train, X_test, y_train, y_test = train_test_split(X_tfidf, y, test_size=0.2)"
   ]
  },
  {
   "cell_type": "code",
   "execution_count": 24,
   "metadata": {},
   "outputs": [
    {
     "name": "stdout",
     "output_type": "stream",
     "text": [
      "              precision    recall  f1-score   support\n",
      "\n",
      "  B-negative       0.52      0.09      0.15       176\n",
      "   B-neutral       0.00      0.00      0.00        25\n",
      "  B-positive       0.49      0.42      0.45       165\n",
      "  I-negative       0.00      0.00      0.00        46\n",
      "   I-neutral       0.00      0.00      0.00        15\n",
      "  I-positive       0.00      0.00      0.00        42\n",
      "           O       0.94      0.99      0.97      5538\n",
      "\n",
      "    accuracy                           0.93      6007\n",
      "   macro avg       0.28      0.21      0.22      6007\n",
      "weighted avg       0.90      0.93      0.91      6007\n",
      "\n"
     ]
    },
    {
     "name": "stderr",
     "output_type": "stream",
     "text": [
      "/home/codespace/.local/lib/python3.10/site-packages/sklearn/metrics/_classification.py:1344: UndefinedMetricWarning: Precision and F-score are ill-defined and being set to 0.0 in labels with no predicted samples. Use `zero_division` parameter to control this behavior.\n",
      "  _warn_prf(average, modifier, msg_start, len(result))\n",
      "/home/codespace/.local/lib/python3.10/site-packages/sklearn/metrics/_classification.py:1344: UndefinedMetricWarning: Precision and F-score are ill-defined and being set to 0.0 in labels with no predicted samples. Use `zero_division` parameter to control this behavior.\n",
      "  _warn_prf(average, modifier, msg_start, len(result))\n",
      "/home/codespace/.local/lib/python3.10/site-packages/sklearn/metrics/_classification.py:1344: UndefinedMetricWarning: Precision and F-score are ill-defined and being set to 0.0 in labels with no predicted samples. Use `zero_division` parameter to control this behavior.\n",
      "  _warn_prf(average, modifier, msg_start, len(result))\n"
     ]
    }
   ],
   "source": [
    "classifier = XGBClassifier()\n",
    "# unable to train the classifier using the train_test split since the number of classes are different (some classes are not present in the training set, leading to an error)\n",
    "classifier.fit(X_train, y_train)\n",
    "# predicting using part of the training data may return an overly optimistic result, but it can still give a gist of the performance of the classifier\n",
    "prediction = classifier.predict(X_test)\n",
    "print(classification_report(le.inverse_transform(y_test), le.inverse_transform(prediction)))"
   ]
  },
  {
   "cell_type": "code",
   "execution_count": null,
   "metadata": {},
   "outputs": [],
   "source": []
  }
 ],
 "metadata": {
  "kernelspec": {
   "display_name": "Python 3",
   "language": "python",
   "name": "python3"
  },
  "language_info": {
   "codemirror_mode": {
    "name": "ipython",
    "version": 3
   },
   "file_extension": ".py",
   "mimetype": "text/x-python",
   "name": "python",
   "nbconvert_exporter": "python",
   "pygments_lexer": "ipython3",
   "version": "3.10.4"
  },
  "orig_nbformat": 4
 },
 "nbformat": 4,
 "nbformat_minor": 2
}
